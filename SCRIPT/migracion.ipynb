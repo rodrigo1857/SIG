{
 "cells": [
  {
   "cell_type": "markdown",
   "id": "e058819b",
   "metadata": {},
   "source": [
    "# ETL SIG"
   ]
  },
  {
   "cell_type": "code",
   "execution_count": 68,
   "id": "b0a82984",
   "metadata": {},
   "outputs": [
    {
     "name": "stdout",
     "output_type": "stream",
     "text": [
      "Requirement already satisfied: dbfread2 in c:\\users\\quipu-q2004e-24\\appdata\\local\\programs\\python\\python313\\lib\\site-packages (0.1.0)\n",
      "Note: you may need to restart the kernel to use updated packages.\n"
     ]
    },
    {
     "name": "stderr",
     "output_type": "stream",
     "text": [
      "\n",
      "[notice] A new release of pip is available: 24.3.1 -> 25.1.1\n",
      "[notice] To update, run: python.exe -m pip install --upgrade pip\n"
     ]
    },
    {
     "name": "stdout",
     "output_type": "stream",
     "text": [
      "Requirement already satisfied: psycopg2 in c:\\users\\quipu-q2004e-24\\appdata\\local\\programs\\python\\python313\\lib\\site-packages (2.9.10)\n",
      "Note: you may need to restart the kernel to use updated packages.\n"
     ]
    },
    {
     "name": "stderr",
     "output_type": "stream",
     "text": [
      "\n",
      "[notice] A new release of pip is available: 24.3.1 -> 25.1.1\n",
      "[notice] To update, run: python.exe -m pip install --upgrade pip\n"
     ]
    }
   ],
   "source": [
    "%pip install dbfread2\n",
    "%pip install psycopg2"
   ]
  },
  {
   "cell_type": "code",
   "execution_count": 69,
   "id": "6557514c",
   "metadata": {},
   "outputs": [],
   "source": [
    "from dbfread2 import DBF\n",
    "import psycopg2\n",
    "import psycopg2.extras\n",
    "import time\n",
    "import csv\n",
    "from io import StringIO\n",
    "from datetime import datetime\n",
    "from typing import Iterable, List, Dict, Callable, Optional, Any"
   ]
  },
  {
   "cell_type": "markdown",
   "id": "0525a968",
   "metadata": {},
   "source": [
    "## 1. ACTUALIZACION DE LAS TABLAS DEL SIAF"
   ]
  },
  {
   "cell_type": "markdown",
   "id": "b8bcedf3",
   "metadata": {},
   "source": [
    "### Conexión a la base de datos"
   ]
  },
  {
   "cell_type": "code",
   "execution_count": 70,
   "id": "a9b78f96",
   "metadata": {},
   "outputs": [],
   "source": [
    "# Connect to the PostgreSQL database\n",
    "conn = psycopg2.connect(\n",
    "    dbname=\"bytsscom_unmsm\",\n",
    "    user=\"postgres\",\n",
    "    password=\"postgres\",\n",
    "    host=\"localhost\",\n",
    "    port=\"5432\"\n",
    ")\n",
    "conn.autocommit = True\n",
    "cur = conn.cursor(cursor_factory=psycopg2.extras.DictCursor)"
   ]
  },
  {
   "cell_type": "markdown",
   "id": "8b62b866",
   "metadata": {},
   "source": [
    "### Leemos el backup para actualizar las tablas"
   ]
  },
  {
   "cell_type": "code",
   "execution_count": 71,
   "id": "a45f0170",
   "metadata": {},
   "outputs": [],
   "source": [
    "certificado = DBF('DATA/certificado.dbf', record_factory=dict, encoding='cp1252',char_decode_errors='replace')\n",
    "certificado_fase = DBF('DATA/certificado_fase.dbf', record_factory=dict, encoding='cp1252',char_decode_errors='replace')\n",
    "certificado_secuencia = DBF('DATA/certificado_secuencia.dbf', record_factory=dict, encoding='cp1252',char_decode_errors='replace')\n",
    "certificado_meta = DBF('DATA/certificado_meta.dbf', record_factory=dict, encoding='cp1252',char_decode_errors='replace')\n",
    "expediente_fase = DBF('DATA/expediente_fase.dbf', record_factory=dict, encoding='cp1252',char_decode_errors='replace')"
   ]
  },
  {
   "cell_type": "code",
   "execution_count": 72,
   "id": "46fcf015",
   "metadata": {},
   "outputs": [
    {
     "name": "stdout",
     "output_type": "stream",
     "text": [
      "{'ANO_EJE': '2025', 'SEC_EJEC': '000088', 'CERTIFICAD': '0000000001', 'TIPO_CERTI': '2', 'ESTADO_REG': 'A', 'COD_ERROR': '00', 'COD_MENSA': '0000', 'ESTADO_ENV': 'T', 'TIPO_OPERA': ''}\n"
     ]
    }
   ],
   "source": [
    "for row in certificado:\n",
    "    if row['ANO_EJE'] == '2025' and row['CERTIFICAD'] == '0000000001':\n",
    "        print(row)"
   ]
  },
  {
   "cell_type": "markdown",
   "id": "c87f12aa",
   "metadata": {},
   "source": [
    "### Creacion de funciones para migrar datos"
   ]
  },
  {
   "cell_type": "code",
   "execution_count": 73,
   "id": "0db239c4",
   "metadata": {},
   "outputs": [],
   "source": [
    "from typing import List, Dict, Any, Callable, Union\n",
    "\n",
    "def simple_filter(fields: Dict[str, Union[List[Any], None]]) -> Callable[[Dict[str, Any]], bool]:\n",
    "    \"\"\"\n",
    "    Genera un filter_fn que:\n",
    "      - Rechaza si rec[field] is None\n",
    "      - Si valid_values es lista, rechaza si rec[field] not in valid_values\n",
    "    fields: { campo_sql: None | [val1, val2, ...] }\n",
    "    \"\"\"\n",
    "    def filter_fn(rec: Dict[str, Any]) -> bool:\n",
    "        for field, valid_values in fields.items():\n",
    "            # 1) Obtener el valor sin confundir falsy con None\n",
    "            if field in rec:\n",
    "                value = rec[field]\n",
    "            elif field.lower() in rec:\n",
    "                value = rec[field.lower()]\n",
    "            elif field.upper() in rec:\n",
    "                value = rec[field.upper()]\n",
    "            else:\n",
    "                # si ni siquiera existe la clave, filtramos\n",
    "                print('no existe: ',field)\n",
    "                return False\n",
    "\n",
    "            # 2) Filtrar nulos reales\n",
    "            if value is None:\n",
    "                return False\n",
    "\n",
    "            # 3) Si hay lista de valores, comprobar pertenencia\n",
    "            if valid_values is not None and value not in valid_values:\n",
    "                return False\n",
    "\n",
    "        return True\n",
    "\n",
    "    return filter_fn\n",
    "\n"
   ]
  },
  {
   "cell_type": "code",
   "execution_count": 74,
   "id": "1afb957c",
   "metadata": {},
   "outputs": [],
   "source": [
    "def bulk_load_csv(\n",
    "    cur,\n",
    "    table_name: str,\n",
    "    columns: List[str],\n",
    "    records: Iterable[Dict[str, Any]],\n",
    "    field_map: Optional[Dict[str, str]] = None,\n",
    "    filter_fn: Optional[Callable[[Dict[str, Any]], bool]] = None,\n",
    "    truncate: bool = False\n",
    ") -> None:\n",
    "    \"\"\"\n",
    "    Carga datos masivamente a una tabla PostgreSQL usando COPY.\n",
    "\n",
    "    Parámetros:\n",
    "    - cur: cursor de psycopg2 (o similar).\n",
    "    - table_name: tabla destino con esquema (e.g. 'esquema.tabla').\n",
    "    - columns: lista de nombres de columnas en el orden deseado.\n",
    "    - records: iterable de diccionarios donde las claves son los nombres de campos de entrada.\n",
    "    - field_map: diccionario opcional para mapear columnas destino a claves de los registros\n",
    "                 (e.g. {'columna_destino': 'campo_entrada'}).\n",
    "    - filter_fn: función opcional que recibe un registro y devuelve True si debe incluirse.\n",
    "    - truncate: si True, vacía la tabla y deshabilita triggers antes de cargar; luego los habilita.\n",
    "    \"\"\"\n",
    "    # 1) Truncate + deshabilitar triggers (si aplica)\n",
    "    start_time = time.time()\n",
    "    if truncate:\n",
    "        cur.execute(f\"TRUNCATE TABLE {table_name};\")\n",
    "        cur.execute(f\"ALTER TABLE {table_name} DISABLE TRIGGER ALL;\")\n",
    "\n",
    "    # 2) Preparar buffer CSV\n",
    "    buffer = StringIO()\n",
    "    writer = csv.writer(buffer, lineterminator='\\n')\n",
    "    writer.writerow(columns)\n",
    "    count = 0\n",
    "\n",
    "    # 3) Escribir filas aplicando filtro y mapeo\n",
    "    for rec in records:\n",
    "        if filter_fn and not filter_fn(rec):\n",
    "            continue\n",
    "        row = []\n",
    "        for col in columns:\n",
    "            # Si hay mapeo para esta columna, usar esa clave en el registro\n",
    "            source_field = field_map[col] if field_map and col in field_map else col\n",
    "            row.append(rec.get(source_field))\n",
    "        writer.writerow(row)\n",
    "        count += 1\n",
    "    buffer.seek(0)\n",
    "\n",
    "    # 4) Ejecutar COPY a PostgreSQL\n",
    "    cols_sql = ', '.join(columns)\n",
    "    copy_sql = (\n",
    "        f\"COPY {table_name} ({cols_sql}) \"\n",
    "        \"FROM STDIN WITH (FORMAT csv, HEADER true);\"\n",
    "    )\n",
    "    cur.copy_expert(copy_sql, buffer)\n",
    "\n",
    "    # 5) Rehabilitar triggers (si antes los deshabilitamos)\n",
    "    if truncate:\n",
    "        cur.execute(f\"ALTER TABLE {table_name} ENABLE TRIGGER ALL;\")\n",
    "\n",
    "    elapsed = time.time()- start_time \n",
    "\n",
    "    print(f\"Carga masiva completada en {table_name}\\n{count} registros migrados en {round(elapsed,2)} segundos.\")\n"
   ]
  },
  {
   "cell_type": "markdown",
   "id": "2edbe44e",
   "metadata": {},
   "source": [
    "### Migracion de las tablas"
   ]
  },
  {
   "cell_type": "code",
   "execution_count": null,
   "id": "5a20ee3f",
   "metadata": {},
   "outputs": [
    {
     "name": "stdout",
     "output_type": "stream",
     "text": [
      "Carga masiva completada en bytsscom_bytsiaf.certificado\n",
      "215745 registros migrados en 2.85 segundos.\n"
     ]
    }
   ],
   "source": [
    "bulk_load_csv(\n",
    "    cur=cur,\n",
    "    table_name='bytsscom_bytsiaf.certificado',\n",
    "    columns=[\n",
    "        'ANO_EJE',\n",
    "        'CERTIFICADO',\n",
    "        'SEC_EJEC',\n",
    "        'TIPO_CERTIFICADO',\n",
    "        'ESTADO_REGISTRO',\n",
    "        'COD_ERROR',\n",
    "        'COD_MENSA',\n",
    "        'ESTADO_ENVIO'\n",
    "    ],\n",
    "    field_map = {\n",
    "        'CERTIFICADO':'CERTIFICAD',\n",
    "        'TIPO_CERTIFICADO':'TIPO_CERTI',\n",
    "        'ESTADO_REGISTRO':'ESTADO_REG',\n",
    "        'ESTADO_ENVIO':'ESTADO_ENV'\n",
    "    },\n",
    "    records=certificado,\n",
    "    truncate=True,\n",
    "    filter_fn= simple_filter({\n",
    "        'CERTIFICAD': None,\n",
    "        'ANO_EJE': ['2024', '2025'],\n",
    "        'ESTADO_REG':['A'],\n",
    "        'TIPO_CERTI':['2']\n",
    "    })\n",
    ")"
   ]
  },
  {
   "cell_type": "code",
   "execution_count": 76,
   "id": "fe0ca56d",
   "metadata": {},
   "outputs": [
    {
     "name": "stdout",
     "output_type": "stream",
     "text": [
      "Carga masiva completada en bytsscom_bytsiaf.certificado_fase\n",
      "77947 registros migrados en 14.47 segundos.\n"
     ]
    }
   ],
   "source": [
    "bulk_load_csv(\n",
    "    cur=cur,\n",
    "    table_name='bytsscom_bytsiaf.certificado_fase',\n",
    "    columns=[\n",
    "        'ANO_EJE',\n",
    "        'SEC_EJEC',\n",
    "        'CERTIFICADO',\n",
    "        'SECUENCIA',\n",
    "        'SECUENCIA_PADRE',\n",
    "        'FUENTE_FINANC',\n",
    "        'ETAPA',\n",
    "        'TIPO_ID',\n",
    "        'RUC',\n",
    "        'ES_COMPROMISO',\n",
    "        'MONTO',\n",
    "        'MONTO_COMPROMETIDO',\n",
    "        'MONTO_NACIONAL',\n",
    "        'GLOSA',\n",
    "        'ESTADO_REGISTRO',\n",
    "        'COD_ERROR',\n",
    "        'COD_MENSA',\n",
    "        'ESTADO_ENVIO',\n",
    "        'SALDO_NACIONAL',\n",
    "        'IND_ANULACION',\n",
    "        'TIPO_FINANCIAMIENTO',\n",
    "        'TIPO_OPERACION',\n",
    "        'SEC_AREA'\n",
    "    ],\n",
    "    field_map = {\n",
    "        'CERTIFICADO':'CERTIFICAD',\n",
    "        'SECUENCIA_PADRE':'SECUENCIA_',\n",
    "        'FUENTE_FINANC':'FUENTE_FIN',\n",
    "        'ES_COMPROMISO':'ES_COMPROM',\n",
    "        'MONTO_COMPROMETIDO':'MONTO_COMP',\n",
    "        'MONTO_NACIONAL': 'MONTO_NACI',\n",
    "        'ESTADO_REGISTRO':'ESTADO_REG',\n",
    "        'ESTADO_ENVIO':'ESTADO_ENV',\n",
    "        'SALDO_NACIONAL':'SALDO_NACI',\n",
    "        'IND_ANULACION': 'IND_ANULAC',\n",
    "        'TIPO_FINANCIAMIENTO': 'TIPO_FINAN',\n",
    "        'TIPO_OPERACION': 'TIPO_OPERA',\n",
    "\n",
    "    },\n",
    "    records=certificado_fase,\n",
    "    truncate=True,\n",
    "    filter_fn= simple_filter({\n",
    "        'CERTIFICAD': None,\n",
    "        'ANO_EJE': ['2024', '2025']\n",
    "    })\n",
    ")"
   ]
  },
  {
   "cell_type": "code",
   "execution_count": 77,
   "id": "0def9900",
   "metadata": {},
   "outputs": [
    {
     "name": "stdout",
     "output_type": "stream",
     "text": [
      "Carga masiva completada en bytsscom_bytsiaf.certificado_secuencia\n",
      "84447 registros migrados en 30.58 segundos.\n"
     ]
    }
   ],
   "source": [
    "\n",
    "bulk_load_csv(\n",
    "    cur=cur,\n",
    "    table_name='bytsscom_bytsiaf.certificado_secuencia',\n",
    "    columns= [\n",
    "        'ANO_EJE',\n",
    "        'SEC_EJEC',\n",
    "        'CERTIFICADO',\n",
    "        'SECUENCIA',\n",
    "        'CORRELATIVO',\n",
    "        'COD_DOC',\n",
    "        'NUM_DOC',\n",
    "        'FECHA_DOC',\n",
    "        'ESTADO_REGISTRO',\n",
    "        'ESTADO_ENVIO',\n",
    "        'IND_CERTIFICACION',\n",
    "        'ESTADO_REGISTRO2',\n",
    "        'ESTADO_ENVIO2',\n",
    "        'MONTO',\n",
    "        'MONTO_COMPROMETIDO',\n",
    "        'MONTO_NACIONAL',\n",
    "        'MONEDA',\n",
    "        'TIPO_CAMBIO',\n",
    "        'COD_ERROR',\n",
    "        'COD_MENSA',\n",
    "        'TIPO_REGISTRO',\n",
    "        'FECHA_BD_ORACLE',\n",
    "        'ESTADO_CTB',\n",
    "        'SECUENCIA_SOLICITUD',\n",
    "        'FECHA_CREACION_CLT',\n",
    "        'FECHA_MODIFICACION_CLT',\n",
    "        'FLG_INTERFASE'\n",
    "    ],\n",
    "    records=certificado_secuencia,\n",
    "    field_map = {\n",
    "        'CERTIFICADO':'CERTIFICAD',\n",
    "        'CORRELATIVO':'CORRELATIV',\n",
    "        'MONTO_COMPROMETIDO':'MONTO_COMP',\n",
    "        'MONTO_NACIONAL': 'MONTO_NACI',\n",
    "        'ESTADO_REGISTRO':'ESTADO_REG',\n",
    "        'ESTADO_ENVIO':'ESTADO_ENV',\n",
    "        'IND_CERTIFICACION': 'IND_CERTIF',\n",
    "        'TIPO_CAMBIO':'TIPO_CAMBI',\n",
    "        'TIPO_REGISTRO':'TIPO_REGIS',\n",
    "        'FECHA_BD_ORACLE':'FECHA_BD_O',\n",
    "        'FECHA_CREACION_CLT': 'FECHA_CREA',\n",
    "        'FECHA_MODIFICACION_CLT':'FECHA_MODI'\n",
    "\n",
    "    },\n",
    "    truncate=True,\n",
    "    filter_fn= simple_filter({\n",
    "        'CERTIFICAD': None,\n",
    "        'ANO_EJE': ['2024', '2025']\n",
    "    })\n",
    ")"
   ]
  },
  {
   "cell_type": "code",
   "execution_count": 78,
   "id": "35b1b7af",
   "metadata": {},
   "outputs": [
    {
     "name": "stdout",
     "output_type": "stream",
     "text": [
      "Carga masiva completada en bytsscom_bytsiaf.certificado_meta\n",
      "106557 registros migrados en 30.17 segundos.\n"
     ]
    }
   ],
   "source": [
    "bulk_load_csv(\n",
    "    cur=cur,\n",
    "    table_name='bytsscom_bytsiaf.certificado_meta',\n",
    "    columns=[\n",
    "        'ANO_EJE',\n",
    "        'SEC_EJEC',\n",
    "        'CERTIFICADO',\n",
    "        'SECUENCIA',\n",
    "        'CORRELATIVO',\n",
    "        'ID_CLASIFICADOR',\n",
    "        'SEC_FUNC',\n",
    "        'MONTO',\n",
    "        'MONTO_COMPROMETIDO',\n",
    "        'MONTO_NACIONAL',\n",
    "        'ESTADO_REGISTRO',\n",
    "        'COD_ERROR',\n",
    "        'COD_MENSA',\n",
    "        'ESTADO_ENVIO',\n",
    "        'MONTO_NACIONAL_AJUSTE',\n",
    "        'SYS_COD_CLASIF',\n",
    "        'SYS_ID_CLASIFICADOR'\n",
    "    ],\n",
    "    records=certificado_meta,\n",
    "    truncate=True,\n",
    "    field_map = {\n",
    "        'CERTIFICADO':'CERTIFICAD',\n",
    "        'CORRELATIVO':'CORRELATIV',\n",
    "        'MONTO_COMPROMETIDO':'MONTO_COMP',\n",
    "        'MONTO_NACIONAL': 'MONTO_NACI',\n",
    "        'ESTADO_REGISTRO':'ESTADO_REG',\n",
    "        'ESTADO_ENVIO':'ESTADO_ENV',\n",
    "        'ID_CLASIFICADOR':'ID_CLASIFI',\n",
    "        'MONTO_NACIONAL_AJUSTE': 'MONTO_NAC2'\n",
    "    },\n",
    "    filter_fn= simple_filter({\n",
    "        'CERTIFICAD': None,\n",
    "        'ANO_EJE': ['2024', '2025']\n",
    "    })\n",
    ")"
   ]
  },
  {
   "cell_type": "code",
   "execution_count": 79,
   "id": "c28d111b",
   "metadata": {},
   "outputs": [
    {
     "name": "stdout",
     "output_type": "stream",
     "text": [
      "Carga masiva completada en bytsscom_bytsiaf.expediente_fase\n",
      "300688 registros migrados en 168.55 segundos.\n"
     ]
    }
   ],
   "source": [
    "bulk_load_csv(\n",
    "    cur=cur,\n",
    "    table_name='bytsscom_bytsiaf.expediente_fase',\n",
    "    columns = [\n",
    "        'ANO_EJE',\n",
    "        'SEC_EJEC',\n",
    "        'EXPEDIENTE',\n",
    "        'CICLO',\n",
    "        'FASE',\n",
    "        'SECUENCIA',\n",
    "        'SECUENCIA_PADRE',\n",
    "        'SECUENCIA_ANTERIOR',\n",
    "        'MES_CTB',\n",
    "        'MONTO_NACIONAL',\n",
    "        'MONTO_SALDO',\n",
    "        'ORIGEN',\n",
    "        'FUENTE_FINANC',\n",
    "        'MEJOR_FECHA',\n",
    "        'TIPO_ID',\n",
    "        'RUC',\n",
    "        'TIPO_PAGO',\n",
    "        'TIPO_RECURSO',\n",
    "        'TIPO_COMPROMISO',\n",
    "        'ORGANISMO',\n",
    "        'PROYECTO',\n",
    "        'ESTADO',\n",
    "        'ESTADO_ENVIO',\n",
    "        'ARCHIVO',\n",
    "        'TIPO_GIRO',\n",
    "        'TIPO_FINANCIAMIENTO',\n",
    "        'COD_DOC_REF',\n",
    "        'FECHA_DOC_REF',\n",
    "        'NUM_DOC_REF',\n",
    "        'CERTIFICADO',\n",
    "        'CERTIFICADO_SECUENCIA',\n",
    "        'SEC_EJEC_RUC'\n",
    "    ],\n",
    "    records=expediente_fase,\n",
    "    truncate=True,\n",
    "    field_map =  {\n",
    "        'SECUENCIA_PADRE':'SECUENCIA2',\n",
    "        'SECUENCIA_ANTERIOR':'SECUENCIA_',\n",
    "        'MONTO_NACIONAL':'MONTO_NACI',\n",
    "        'MONTO_SALDO':'MONTO_SALD',\n",
    "        'FUENTE_FINANC':'FUENTE_FIN',\n",
    "        'MEJOR_FECHA':'MEJOR_FECH',\n",
    "        'TIPO_RECURSO':'TIPO_RECUR',\n",
    "        'TIPO_COMPROMISO':'TIPO_COMPR',\n",
    "        'TIPO_FINANCIAMIENTO':'TIPO_FINAN',\n",
    "        'COD_DOC_REF':'COD_DOC_RE',\n",
    "        'FECHA_DOC_REF':'FECHA_DOC_',\n",
    "        'NUM_DOC_REF':'NUM_DOC_RE',\n",
    "        'CERTIFICADO':'CERTIFICAD',\n",
    "        'CERTIFICADO_SECUENCIA':'CERTIFICA2',\n",
    "        'SEC_EJEC_RUC':'SEC_EJEC_R'\n",
    "    },\n",
    "    filter_fn= simple_filter({\n",
    "        'CERTIFICAD': None,\n",
    "        'ANO_EJE': ['2024', '2025']\n",
    "    })\n",
    ")"
   ]
  }
 ],
 "metadata": {
  "kernelspec": {
   "display_name": "Python 3",
   "language": "python",
   "name": "python3"
  },
  "language_info": {
   "codemirror_mode": {
    "name": "ipython",
    "version": 3
   },
   "file_extension": ".py",
   "mimetype": "text/x-python",
   "name": "python",
   "nbconvert_exporter": "python",
   "pygments_lexer": "ipython3",
   "version": "3.13.2"
  }
 },
 "nbformat": 4,
 "nbformat_minor": 5
}
